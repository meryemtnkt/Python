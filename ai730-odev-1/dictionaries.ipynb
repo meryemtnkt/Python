{
 "cells": [
  {
   "cell_type": "code",
   "execution_count": 22,
   "id": "8fed0136-5303-44de-9df7-bab52adee3e2",
   "metadata": {},
   "outputs": [],
   "source": [
    "sozluk={\"Ad\":\"\",\"Soyad\":\"\",\"İletişim\":\"\",\"Eğitim\":\"\",\"Bölüm\":\"\",\"Tecrübe\":\"\",\"Sertifika\":\"\",\"Programlama Dilleri\":\"\"}"
   ]
  },
  {
   "cell_type": "code",
   "execution_count": 37,
   "id": "b27b1af5-cbf1-4950-a00c-d15201a37708",
   "metadata": {},
   "outputs": [
    {
     "name": "stdout",
     "output_type": "stream",
     "text": [
      "Ad - Soyad: Meryem Tankut  , İletişim: İstanbul  , Eğitim: Namık Kemal Üniversitesi Mühendislik Fakültesi\n",
      "Ad - Soyad: Aliye Örnek1  , İletişim: Ankara  , Eğitim: Ankara Üniversitesi Mühendislik Fakültesi\n",
      "Ad - Soyad: Hakan Örnek2  , İletişim: Kocaeli  , Eğitim: Lise Mezunu\n",
      "Ad - Soyad: Ali Örnek2  , İletişim: Kocaeli  , Eğitim: Lise Mezunu\n",
      "Ad - Soyad: Melek Örnek2  , İletişim: Kocaeli  , Eğitim: Lise Mezunu\n"
     ]
    }
   ],
   "source": [
    "cv_list = list()\n",
    "\n",
    "kisi1={\"Ad\":\"Meryem\",\"Soyad\":\"Tankut\",\"İletişim\":\"İstanbul\",\"Eğitim\":\"Namık Kemal Üniversitesi Mühendislik Fakültesi\",\"Bölüm\":\"Bilgisayar Mühendisliği\",\"Tecrübe\":\"Endigitals/Frontend Developer\",\"Sertifika\":\"Photoshop ve Corel\",\"Programlama Dilleri\":\"Python , Java , C# , Javascript , Html , Css\"}\n",
    "kisi2={\"Ad\":\"Aliye\",\"Soyad\":\"Örnek1\",\"İletişim\":\"Ankara\",\"Eğitim\":\"Ankara Üniversitesi Mühendislik Fakültesi\",\"Bölüm\":\"Bilgisayar Mühendisliği\",\"Tecrübe\":\"Yok\",\"Sertifika\":\"PHP\",\"Programlama Dilleri\":\"Python , Java , C# , Javascript , Html , Css\"}\n",
    "kisi3={\"Ad\":\"Hakan\",\"Soyad\":\"Örnek2\",\"İletişim\":\"Kocaeli\",\"Eğitim\":\"Lise Mezunu\",\"Bölüm\":\"Makine\",\"Tecrübe\":\"Belediye Stajyer\",\"Sertifika\":\"Yok\",\"Programlama Dilleri\":\"Ms office\"}\n",
    "kisi4={\"Ad\":\"Ali\",\"Soyad\":\"Örnek2\",\"İletişim\":\"Kocaeli\",\"Eğitim\":\"Lise Mezunu\",\"Bölüm\":\"Makine\",\"Tecrübe\":\"Belediye Stajyer\",\"Sertifika\":\"Yok\",\"Programlama Dilleri\":\"Ms office\"}\n",
    "kisi5={\"Ad\":\"Melek\",\"Soyad\":\"Örnek2\",\"İletişim\":\"Kocaeli\",\"Eğitim\":\"Lise Mezunu\",\"Bölüm\":\"Makine\",\"Tecrübe\":\"Belediye Stajyer\",\"Sertifika\":\"Yok\",\"Programlama Dilleri\":\"Ms office\"}\n",
    "\n",
    "cv_list.append(kisi1)\n",
    "cv_list.append(kisi2)\n",
    "cv_list.append(kisi3)\n",
    "cv_list.append(kisi4)\n",
    "cv_list.append(kisi5)\n",
    "\n",
    "for i in cv_list:\n",
    "    print(\"Ad - Soyad:\" ,\n",
    "          i[\"Ad\"] , i[\"Soyad\"],\n",
    "          \" , İletişim:\" , i[\"İletişim\"],\n",
    "          \" , Eğitim:\", i[\"Eğitim\"],\n",
    "          #Çıktı karışık göründüğü için diğer alanları yorum satırına aldım\n",
    "         # \" , Bölüm:\" , i[\"Bölüm\"],\n",
    "          #\" , Tecrübe:\" ,i[\"Tecrübe\"],\n",
    "          #\" , Sertifika:\" , i[\"Sertifika\"],\n",
    "          #\" , Programlama Dilleri:\" , i[\"Programlama Dilleri\"]\n",
    "         )\n",
    "\n",
    "\n"
   ]
  },
  {
   "cell_type": "code",
   "execution_count": 7,
   "id": "b613218b-5e51-4b4f-b821-e7b48dccb4dd",
   "metadata": {},
   "outputs": [],
   "source": []
  },
  {
   "cell_type": "code",
   "execution_count": 9,
   "id": "68ca7013-b138-44ba-b2f5-8c6b13391af5",
   "metadata": {},
   "outputs": [],
   "source": []
  },
  {
   "cell_type": "code",
   "execution_count": 11,
   "id": "ff0e9634-1371-4790-b6f9-8a96d531dec0",
   "metadata": {},
   "outputs": [],
   "source": []
  },
  {
   "cell_type": "code",
   "execution_count": 12,
   "id": "cdc4c0b3-4095-446d-8720-4d6b6b3e9593",
   "metadata": {},
   "outputs": [],
   "source": []
  },
  {
   "cell_type": "code",
   "execution_count": null,
   "id": "e417c726-2133-4f3d-bb81-3c8530818f93",
   "metadata": {},
   "outputs": [],
   "source": []
  }
 ],
 "metadata": {
  "kernelspec": {
   "display_name": "Python 3",
   "language": "python",
   "name": "python3"
  },
  "language_info": {
   "codemirror_mode": {
    "name": "ipython",
    "version": 3
   },
   "file_extension": ".py",
   "mimetype": "text/x-python",
   "name": "python",
   "nbconvert_exporter": "python",
   "pygments_lexer": "ipython3",
   "version": "3.9.5"
  }
 },
 "nbformat": 4,
 "nbformat_minor": 5
}
