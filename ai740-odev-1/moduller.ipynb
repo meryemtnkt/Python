{
 "cells": [
  {
   "cell_type": "code",
   "execution_count": null,
   "id": "39e43f60-4695-4d00-a9ab-0656650e8d92",
   "metadata": {},
   "outputs": [
    {
     "name": "stdin",
     "output_type": "stream",
     "text": [
      "Enter the student name : meryem\n",
      "Enter the ['meryem'] midterm not : 80\n"
     ]
    }
   ],
   "source": [
    "import operator\n",
    "students={}\n",
    "for i in range(5):\n",
    "    Name = input(\"Enter the student name :\").split()\n",
    "    midterm  = input(\"Enter the {} midterm not :\".format(Name))\n",
    "    project  = input(\"Enter the {} project not :\".format(Name)).split()\n",
    "    final   = input(\"Enter the {} final not  :\".format(Name)).split()\n",
    "    Nam_key =  Name[0]\n",
    "    midterm_value = midterm[0]\n",
    "    project_value = project[0]\n",
    "    final_value = final[0]\n",
    "   # gecme_notu = float(midterm_value* (0,3) + project_value  * (0,3) + final_value  * (0,4) )\n",
    "    students[Nam_key] = {midterm_value, project_value,final_value}\n",
    "    \n",
    "print(students)\n"
   ]
  },
  {
   "cell_type": "code",
   "execution_count": null,
   "id": "0d8e19b7-e937-46a1-8c02-737b4dbf12f7",
   "metadata": {},
   "outputs": [],
   "source": []
  }
 ],
 "metadata": {
  "kernelspec": {
   "display_name": "Python 3",
   "language": "python",
   "name": "python3"
  },
  "language_info": {
   "codemirror_mode": {
    "name": "ipython",
    "version": 3
   },
   "file_extension": ".py",
   "mimetype": "text/x-python",
   "name": "python",
   "nbconvert_exporter": "python",
   "pygments_lexer": "ipython3",
   "version": "3.9.5"
  }
 },
 "nbformat": 4,
 "nbformat_minor": 5
}
