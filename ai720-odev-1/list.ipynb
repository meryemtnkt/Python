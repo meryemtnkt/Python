{
 "cells": [
  {
   "cell_type": "code",
   "execution_count": 1,
   "id": "732f83d3-0f78-4e35-b4e9-f3ec21cf9934",
   "metadata": {},
   "outputs": [],
   "source": [
    "list1=[1,3,5,7,9,11,13,15,17,19,21]"
   ]
  },
  {
   "cell_type": "code",
   "execution_count": 2,
   "id": "be2076c7-2f25-48bc-b376-bced08555bd8",
   "metadata": {},
   "outputs": [],
   "source": [
    "list2=[2,4,6,8,10,12,14,16,18,20]"
   ]
  },
  {
   "cell_type": "code",
   "execution_count": 3,
   "id": "ab843b4c-c4c3-42cc-bcaa-b5b0b25676da",
   "metadata": {},
   "outputs": [],
   "source": [
    "list3=list1+list2"
   ]
  },
  {
   "cell_type": "code",
   "execution_count": 4,
   "id": "617bc9d7-8a3e-4374-b40e-2dcc0a39ef73",
   "metadata": {},
   "outputs": [
    {
     "name": "stdout",
     "output_type": "stream",
     "text": [
      "[1, 3, 5, 7, 9, 11, 13, 15, 17, 19, 21, 2, 4, 6, 8, 10, 12, 14, 16, 18, 20]\n"
     ]
    }
   ],
   "source": [
    "print(list3)"
   ]
  },
  {
   "cell_type": "code",
   "execution_count": 12,
   "id": "10fee91f-e092-4c21-b698-7bbfe652e28a",
   "metadata": {},
   "outputs": [],
   "source": [
    "carp=[]\n",
    "      "
   ]
  },
  {
   "cell_type": "code",
   "execution_count": 13,
   "id": "43801a81-92d5-4ba7-8a48-7021cc8b9937",
   "metadata": {},
   "outputs": [],
   "source": [
    "carp=[i*2 for i in list3]"
   ]
  },
  {
   "cell_type": "code",
   "execution_count": 14,
   "id": "574f1403-6167-4d64-9cb1-177c482f2075",
   "metadata": {},
   "outputs": [
    {
     "name": "stdout",
     "output_type": "stream",
     "text": [
      "[2, 6, 10, 14, 18, 22, 26, 30, 34, 38, 42, 4, 8, 12, 16, 20, 24, 28, 32, 36, 40]\n"
     ]
    }
   ],
   "source": [
    "print(carp)"
   ]
  },
  {
   "cell_type": "code",
   "execution_count": 15,
   "id": "79c6e596-df0f-4033-95db-4b79fafdb3b1",
   "metadata": {},
   "outputs": [],
   "source": [
    "deger=[]"
   ]
  },
  {
   "cell_type": "code",
   "execution_count": 20,
   "id": "a2c9b213-2eda-4ea0-ad79-446cd4c05779",
   "metadata": {},
   "outputs": [
    {
     "name": "stdout",
     "output_type": "stream",
     "text": [
      "cift: 2\n",
      "cift: 6\n",
      "cift: 10\n",
      "cift: 14\n",
      "cift: 18\n",
      "cift: 22\n",
      "cift: 26\n",
      "cift: 30\n",
      "cift: 34\n",
      "cift: 38\n",
      "cift: 42\n",
      "cift: 4\n",
      "cift: 8\n",
      "cift: 12\n",
      "cift: 16\n",
      "cift: 20\n",
      "cift: 24\n",
      "cift: 28\n",
      "cift: 32\n",
      "cift: 36\n",
      "cift: 40\n"
     ]
    }
   ],
   "source": [
    "for i in carp:\n",
    "    if i % 2 == 0: \n",
    "        print(\"cift:\" , i )\n",
    "        \n",
    "    if i % 2 == 1:\n",
    "        print(\"tek:\", i)\n",
    "    "
   ]
  },
  {
   "cell_type": "code",
   "execution_count": null,
   "id": "9d6c8770-ee54-4d96-8ddc-4cc3e7458988",
   "metadata": {},
   "outputs": [],
   "source": []
  }
 ],
 "metadata": {
  "kernelspec": {
   "display_name": "Python 3",
   "language": "python",
   "name": "python3"
  },
  "language_info": {
   "codemirror_mode": {
    "name": "ipython",
    "version": 3
   },
   "file_extension": ".py",
   "mimetype": "text/x-python",
   "name": "python",
   "nbconvert_exporter": "python",
   "pygments_lexer": "ipython3",
   "version": "3.9.5"
  }
 },
 "nbformat": 4,
 "nbformat_minor": 5
}
