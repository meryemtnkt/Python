{
 "cells": [
  {
   "cell_type": "code",
   "execution_count": 2,
   "id": "d5705520-5448-46e0-8ff3-ad31a7b4a508",
   "metadata": {},
   "outputs": [
    {
     "name": "stdin",
     "output_type": "stream",
     "text": [
      " 123\n",
      " 1\n"
     ]
    },
    {
     "name": "stdout",
     "output_type": "stream",
     "text": [
      "3.0 done\n"
     ]
    }
   ],
   "source": [
    "raw1=input()\n",
    "raw2=input()\n",
    "try:\n",
    "    print(len(raw1)/len(raw2),end=\" \")\n",
    "except:\n",
    "    print(\"can \", end=\" \")\n",
    "finally:\n",
    "    print(\"done\")"
   ]
  },
  {
   "cell_type": "code",
   "execution_count": 6,
   "id": "efd9f0c5-4e99-4d8a-b095-3ca1d3d4f7b5",
   "metadata": {},
   "outputs": [
    {
     "name": "stdout",
     "output_type": "stream",
     "text": [
      "start 15 8\n",
      "end 11 11\n",
      "after0 15 11\n",
      "start 15 11\n",
      "end 11 14\n",
      "second 15 11\n"
     ]
    }
   ],
   "source": [
    "def myloop(x,y):\n",
    "    print(\"start\",x,y)\n",
    "    while x>y:\n",
    "        x-=4\n",
    "        y+=3\n",
    "    print(\"end\",x,y)\n",
    "    return x\n",
    "x=15\n",
    "y=8\n",
    "y=myloop(x,y)\n",
    "print(\"after0\",x,y)\n",
    "myloop(x,y)\n",
    "print(\"second\",x,y)"
   ]
  },
  {
   "cell_type": "code",
   "execution_count": 7,
   "id": "da130f12-495a-4df1-8e1e-1176f8ab5461",
   "metadata": {},
   "outputs": [],
   "source": [
    "from random import *"
   ]
  },
  {
   "cell_type": "code",
   "execution_count": 14,
   "id": "5047e9b9-61bc-4e32-b629-94fb5858516a",
   "metadata": {},
   "outputs": [],
   "source": [
    "def rnd(numOfLetters):\n",
    "    cap=\"ABCDEFGHIJKLMNOPRQSTUVWXYZ\"\n",
    "    let=cap.lower()\n",
    "    dig=\"123456789\"\n",
    "    sey=\"!#?\"\n",
    "    randnum=randint(0,len(cap)-1)\n",
    "    passw=cap[randnum]\n",
    "    \n",
    "    for i in range (int (numOfLetters)):\n",
    "        randnum=randint(0,len(let)-1) \n",
    "        passw +=let[randnum]\n",
    "        \n",
    "        \n",
    "    randnum=randint(0,len(dig)-1)   \n",
    "    passw +=dig[randnum]\n",
    "    randnum=randint(0,len(sey)-1)\n",
    "    passw +=sey[randnum]\n",
    "    \n",
    "    return passw"
   ]
  },
  {
   "cell_type": "code",
   "execution_count": 17,
   "id": "ad8f616a-0a17-4342-b17a-a57a6a50b811",
   "metadata": {},
   "outputs": [
    {
     "data": {
      "text/plain": [
       "<function __main__.rnd(numOfLetters)>"
      ]
     },
     "execution_count": 17,
     "metadata": {},
     "output_type": "execute_result"
    }
   ],
   "source": [
    "rnd\n"
   ]
  },
  {
   "cell_type": "code",
   "execution_count": null,
   "id": "094c6562-23a7-4d69-b443-561bdf32cde3",
   "metadata": {},
   "outputs": [],
   "source": []
  }
 ],
 "metadata": {
  "kernelspec": {
   "display_name": "Python 3",
   "language": "python",
   "name": "python3"
  },
  "language_info": {
   "codemirror_mode": {
    "name": "ipython",
    "version": 3
   },
   "file_extension": ".py",
   "mimetype": "text/x-python",
   "name": "python",
   "nbconvert_exporter": "python",
   "pygments_lexer": "ipython3",
   "version": "3.9.5"
  }
 },
 "nbformat": 4,
 "nbformat_minor": 5
}
